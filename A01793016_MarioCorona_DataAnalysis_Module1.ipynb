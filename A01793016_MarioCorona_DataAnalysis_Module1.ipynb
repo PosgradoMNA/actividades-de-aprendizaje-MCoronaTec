{
  "nbformat": 4,
  "nbformat_minor": 0,
  "metadata": {
    "colab": {
      "provenance": [],
      "authorship_tag": "ABX9TyPHu3Lt32XiypdaRIfDQcJA",
      "include_colab_link": true
    },
    "kernelspec": {
      "name": "python3",
      "display_name": "Python 3"
    },
    "language_info": {
      "name": "python"
    }
  },
  "cells": [
    {
      "cell_type": "markdown",
      "metadata": {
        "id": "view-in-github",
        "colab_type": "text"
      },
      "source": [
        "<a href=\"https://colab.research.google.com/github/PosgradoMNA/actividades-de-aprendizaje-MCoronaTec/blob/main/A01793016_MarioCorona_DataAnalysis_Module1.ipynb\" target=\"_parent\"><img src=\"https://colab.research.google.com/assets/colab-badge.svg\" alt=\"Open In Colab\"/></a>"
      ]
    },
    {
      "cell_type": "markdown",
      "source": [
        "# Data Analysis with Python\n",
        "\n",
        "# Modulo 1\n",
        "\n",
        "**Nombre:** Mario Alberto Corona Cadenas\n",
        "\n",
        "**Matrícula:** A01793016**\n"
      ],
      "metadata": {
        "id": "vaP0k1hG6AGe"
      }
    },
    {
      "cell_type": "markdown",
      "source": [
        "# Understanding the data\n",
        "\n",
        "Los datasets pueden estar en formato CSV (comma separated value). Donde cada línea representa una fila y los valores separado por la coma es parte de una columna. "
      ],
      "metadata": {
        "id": "QJrWxb3P6pUH"
      }
    },
    {
      "cell_type": "markdown",
      "source": [
        "# Librerias Para Computación Científica\n",
        "\n",
        "- Pandas: Contiene herramientas para el manejo de estructuras de datos como los .csv\n",
        "- NumPy: Maneja arreglos y matrices. Además cuenta con herramientas que ayudan al manejo de valore numéricos\n",
        "- SciPy: Tiene la capacidad de realizar operaciones matemáticas más complejas como las integrales y ecuaciones diferenciales"
      ],
      "metadata": {
        "id": "RlYluoMO7ACK"
      }
    },
    {
      "cell_type": "markdown",
      "source": [
        "# Librerias de Visualización\n",
        "\n",
        "- Matplotlib: Ayuda en la creación de gráficas, principalmente cartesianas\n",
        "- Seaborn: Cuenta con herramientas para la creación de gráficas estadísticas como el mapa de calor o tramas de violín."
      ],
      "metadata": {
        "id": "sF34DIla76aq"
      }
    },
    {
      "cell_type": "markdown",
      "source": [
        "# Librerias de Algoritmos\n",
        "\n",
        "- Scikit-learn: Posee herramientas para la automatización automática (Machine-learnin) como la regresión, clasificación entre otros.\n",
        "- Statsmodels: Contiene funcionalidades para poder explorar los datosa de manera estadística. Ayuda en la estimación de la eficiencia de los modelos así como en las pruebas"
      ],
      "metadata": {
        "id": "KXUEEBMk8UCt"
      }
    },
    {
      "cell_type": "markdown",
      "source": [
        "# Importando Datos\n",
        "\n",
        "Los datos tienen dos propiedades:\n",
        "- Formato (.csv, .json, .xlsx ...)\n",
        "- Ruta del archivo\n",
        "  - De la computadora\n",
        "  - De internet\n"
      ],
      "metadata": {
        "id": "If_YO-7y9BNn"
      }
    },
    {
      "cell_type": "markdown",
      "source": [
        "# Pandas\n",
        "\n",
        "Para importar un archivos usamos `read_csv` si vamos a leer un archivo en formato csv. Esta función es parte de la libreria pandas\n",
        "\n",
        "Ejemplo:\n",
        "`df = pd.read_csv(url, header=None)`\n",
        "\n",
        "Una vez que se lee se puede hacer lo siguiente:\n",
        "- `df` Imprime todo el dataframe\n",
        "- `df.head(n)` imprime las primeras líneas indicadas por `n`\n",
        "- `df.tail(n)` imprime las últimas líneas indicadas por `n`\n",
        "\n",
        "Para reemplazar el nombre de las columnas que vienen en el dataset se usa lo siguiente:\n",
        "\n",
        "`df.columns= ['header1', 'header2]` donde los nombres de los nuevos headers están especificados en una lista"
      ],
      "metadata": {
        "id": "n6H7gbZe91d_"
      }
    }
  ]
}