{
  "nbformat": 4,
  "nbformat_minor": 0,
  "metadata": {
    "colab": {
      "provenance": [],
      "authorship_tag": "ABX9TyNUL/ttIbv6KY1r6lPVZczZ",
      "include_colab_link": true
    },
    "kernelspec": {
      "name": "python3",
      "display_name": "Python 3"
    },
    "language_info": {
      "name": "python"
    }
  },
  "cells": [
    {
      "cell_type": "markdown",
      "metadata": {
        "id": "view-in-github",
        "colab_type": "text"
      },
      "source": [
        "<a href=\"https://colab.research.google.com/github/PosgradoMNA/actividades-de-aprendizaje-MCoronaTec/blob/main/A01793016_MarioCorona_DataAnalysis_Module1.ipynb\" target=\"_parent\"><img src=\"https://colab.research.google.com/assets/colab-badge.svg\" alt=\"Open In Colab\"/></a>"
      ]
    },
    {
      "cell_type": "markdown",
      "source": [
        "# Data Analysis with Python\n",
        "\n",
        "# Modulo 1\n",
        "\n",
        "**Nombre:** Mario Alberto Corona Cadenas\n",
        "\n",
        "**Matrícula:** A01793016**\n"
      ],
      "metadata": {
        "id": "vaP0k1hG6AGe"
      }
    },
    {
      "cell_type": "markdown",
      "source": [
        "# Understanding the data\n",
        "\n",
        "Los datasets pueden estar en formato CSV (comma separated value). Donde cada línea representa una fila y los valores separado por la coma es parte de una columna. "
      ],
      "metadata": {
        "id": "QJrWxb3P6pUH"
      }
    },
    {
      "cell_type": "markdown",
      "source": [
        "# Librerias Para Computación Científica\n",
        "\n",
        "- Pandas: Contiene herramientas para el manejo de estructuras de datos como los .csv\n",
        "- NumPy: Maneja arreglos y matrices. Además cuenta con herramientas que ayudan al manejo de valore numéricos\n",
        "- SciPy: Tiene la capacidad de realizar operaciones matemáticas más complejas como las integrales y ecuaciones diferenciales"
      ],
      "metadata": {
        "id": "RlYluoMO7ACK"
      }
    },
    {
      "cell_type": "markdown",
      "source": [
        "# Librerias de Visualización\n",
        "\n",
        "- Matplotlib: Ayuda en la creación de gráficas, principalmente cartesianas\n",
        "- Seaborn: Cuenta con herramientas para la creación de gráficas estadísticas como el mapa de calor o tramas de violín."
      ],
      "metadata": {
        "id": "sF34DIla76aq"
      }
    },
    {
      "cell_type": "markdown",
      "source": [
        "# Librerias de Algoritmos\n",
        "\n",
        "- Scikit-learn: Posee herramientas para la automatización automática (Machine-learnin) como la regresión, clasificación entre otros.\n",
        "- Statsmodels: Contiene funcionalidades para poder explorar los datosa de manera estadística. Ayuda en la estimación de la eficiencia de los modelos así como en las pruebas"
      ],
      "metadata": {
        "id": "KXUEEBMk8UCt"
      }
    }
  ]
}