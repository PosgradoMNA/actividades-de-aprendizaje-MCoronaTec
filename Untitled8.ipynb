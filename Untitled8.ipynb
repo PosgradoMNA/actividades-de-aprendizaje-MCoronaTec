{
  "nbformat": 4,
  "nbformat_minor": 0,
  "metadata": {
    "colab": {
      "provenance": [],
      "authorship_tag": "ABX9TyMnV3RdZR6xeRudqzsb2zjE",
      "include_colab_link": true
    },
    "kernelspec": {
      "name": "python3",
      "display_name": "Python 3"
    },
    "language_info": {
      "name": "python"
    }
  },
  "cells": [
    {
      "cell_type": "markdown",
      "metadata": {
        "id": "view-in-github",
        "colab_type": "text"
      },
      "source": [
        "<a href=\"https://colab.research.google.com/github/PosgradoMNA/actividades-de-aprendizaje-MCoronaTec/blob/main/Untitled8.ipynb\" target=\"_parent\"><img src=\"https://colab.research.google.com/assets/colab-badge.svg\" alt=\"Open In Colab\"/></a>"
      ]
    },
    {
      "cell_type": "markdown",
      "source": [
        "# Introduction to Data Analysis with Python\n",
        "\n",
        "#Moudulo 1\n",
        "\n",
        "**Alumno:** Mario Alberto Corona\n",
        "\n",
        "**Matrícula:** A01793016"
      ],
      "metadata": {
        "id": "wBWisNKU_368"
      }
    },
    {
      "cell_type": "markdown",
      "source": [
        "# Understandin the data\n",
        "Usamos archivos CSV (comma separated values). Cada linea representa una fila, y los valores separados por comas, son parte de la columnas."
      ],
      "metadata": {
        "id": "UFs5MCnlBAW1"
      }
    },
    {
      "cell_type": "markdown",
      "source": [
        "# Librerias para manipular la base de datos\n",
        "\n",
        "- Pandsa: Estructura de datos y algunas herramientas para su manipulación\n",
        "- NumPuy: arreglos y matrices. Además, cuenta con herramientas para la manipulción de datos numericos\n",
        "- SciPy: Para resolver operacionhes matemáticas más avazadas como integrales, ecuaciones diferenciale y optimización."
      ],
      "metadata": {
        "id": "rW4QFXCFBq5v"
      }
    },
    {
      "cell_type": "markdown",
      "source": [
        "# Librerias de Visualización\n",
        "\n",
        "- Matplotlib: ayuda a crear principalmente gráficas\n",
        "- Seaborn: Crear graficas estadísticas como mapas de calor, series de tiempo, ente otros"
      ],
      "metadata": {
        "id": "ev6pAMupCyVX"
      }
    },
    {
      "cell_type": "markdown",
      "source": [
        "# Librerias de Algoritmos\n",
        "- Scikit-learn: incluye herramientas para aprendizaje automático, resgresión, calsificación, etc. \n",
        "- Statsmodels: exploración de datos, modelos de estimación estadística y ayuda a corres pruebas estadísticas"
      ],
      "metadata": {
        "id": "zlkR4h4_Eu1-"
      }
    },
    {
      "cell_type": "markdown",
      "source": [
        "# Importing Data \n",
        " Es importante tomar en cuenta el formato en el cual se importaran los datos"
      ],
      "metadata": {
        "id": "328xegAMdE24"
      }
    }
  ]
}