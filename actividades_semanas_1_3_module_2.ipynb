{
  "nbformat": 4,
  "nbformat_minor": 0,
  "metadata": {
    "colab": {
      "name": "assignment01.ipynb",
      "provenance": [],
      "include_colab_link": true
    },
    "kernelspec": {
      "name": "python3",
      "display_name": "Python 3"
    },
    "language_info": {
      "name": "python"
    }
  },
  "cells": [
    {
      "cell_type": "markdown",
      "metadata": {
        "id": "view-in-github",
        "colab_type": "text"
      },
      "source": [
        "<a href=\"https://colab.research.google.com/github/PosgradoMNA/actividades-de-aprendizaje-MCoronaTec/blob/main/actividades_semanas_1_3_module_2.ipynb\" target=\"_parent\"><img src=\"https://colab.research.google.com/assets/colab-badge.svg\" alt=\"Open In Colab\"/></a>"
      ]
    },
    {
      "cell_type": "code",
      "execution_count": 1,
      "metadata": {
        "id": "LzUSMM79NR9P",
        "outputId": "606512a5-7189-4710-d60b-1363805ccffb",
        "colab": {
          "base_uri": "https://localhost:8080/"
        }
      },
      "outputs": [
        {
          "output_type": "stream",
          "name": "stdout",
          "text": [
            "True\n",
            "False\n",
            "True\n",
            "True\n"
          ]
        }
      ],
      "source": [
        "i=1\n",
        "print(i!=0)\n",
        "i=0\n",
        "print(i!=0)\n",
        "i=-1\n",
        "print(i!=0)\n",
        "i=100000000\n",
        "print(i!=0)"
      ]
    },
    {
      "cell_type": "code",
      "source": [
        "x='a'\n",
        "if(x!='a'):\n",
        "  print('This is not a.')\n",
        "else:\n",
        "  print('This is a.')"
      ],
      "metadata": {
        "id": "71HtYi4dDG9H",
        "outputId": "20611ec4-d6ca-4ee1-ca88-6e279a81bb3d",
        "colab": {
          "base_uri": "https://localhost:8080/"
        }
      },
      "execution_count": 2,
      "outputs": [
        {
          "output_type": "stream",
          "name": "stdout",
          "text": [
            "This is a.\n"
          ]
        }
      ]
    },
    {
      "cell_type": "code",
      "source": [
        "album_rating_dic = {\"Back in Black\" : 8.5}\n",
        "if album_rating_dic['Back in Black'] > 8:\n",
        "  print('This album is amazing!')\n",
        "elif album_rating_dic['Bac in Black'] <= 8:\n",
        "  print('This album is OK')"
      ],
      "metadata": {
        "id": "mxM_WppZPMFx",
        "outputId": "a40d950f-2256-408e-84d4-433d19b4ebf2",
        "colab": {
          "base_uri": "https://localhost:8080/"
        }
      },
      "execution_count": 4,
      "outputs": [
        {
          "output_type": "stream",
          "name": "stdout",
          "text": [
            "This album is amazing!\n"
          ]
        }
      ]
    },
    {
      "cell_type": "code",
      "source": [
        "album_year = 1970\n",
        "if album_year < 1980 or (1990 < album_year <= 1993):\n",
        "  print(album_year)\n",
        "album_year = 1985\n",
        "if album_year < 1980 or (1990 < album_year <= 1993):\n",
        "  print(album_year)\n",
        "album_year = 1992\n",
        "if album_year < 1980 or (1990 < album_year <= 1993):\n",
        "  print(album_year)\n",
        "album_year = 1995\n",
        "if album_year < 1980 or (1990 < album_year <= 1993):\n",
        "  print(album_year)"
      ],
      "metadata": {
        "id": "4eaBjFrHGeV9",
        "outputId": "75ce6322-07be-4913-b704-101a2c1a0382",
        "colab": {
          "base_uri": "https://localhost:8080/"
        }
      },
      "execution_count": 12,
      "outputs": [
        {
          "output_type": "stream",
          "name": "stdout",
          "text": [
            "1970\n",
            "1992\n"
          ]
        }
      ]
    },
    {
      "cell_type": "code",
      "source": [
        "A=[3,4,5]\n",
        "for a in A:\n",
        "  print(a)"
      ],
      "metadata": {
        "id": "YQUnDFL5GePw",
        "outputId": "9394150e-d980-4ea8-b8cc-758550f26f91",
        "colab": {
          "base_uri": "https://localhost:8080/"
        }
      },
      "execution_count": 14,
      "outputs": [
        {
          "output_type": "stream",
          "name": "stdout",
          "text": [
            "3\n",
            "4\n",
            "5\n"
          ]
        }
      ]
    },
    {
      "cell_type": "code",
      "source": [
        "x=3\n",
        "y=1\n",
        "while(y!=x):\n",
        "  print(y)\n",
        "  y=y+1"
      ],
      "metadata": {
        "id": "ii2TWXxZGeKe",
        "outputId": "d51b91e9-97b2-43b0-e6e6-ef32ac978151",
        "colab": {
          "base_uri": "https://localhost:8080/"
        }
      },
      "execution_count": 15,
      "outputs": [
        {
          "output_type": "stream",
          "name": "stdout",
          "text": [
            "1\n",
            "2\n"
          ]
        }
      ]
    },
    {
      "cell_type": "code",
      "source": [
        "for num in range(-5,6):\n",
        "  print(num)\n"
      ],
      "metadata": {
        "id": "T5JweszYGeDH",
        "outputId": "1f024e47-6914-4a5d-a89c-3c537d9ac357",
        "colab": {
          "base_uri": "https://localhost:8080/"
        }
      },
      "execution_count": 16,
      "outputs": [
        {
          "output_type": "stream",
          "name": "stdout",
          "text": [
            "-5\n",
            "-4\n",
            "-3\n",
            "-2\n",
            "-1\n",
            "0\n",
            "1\n",
            "2\n",
            "3\n",
            "4\n",
            "5\n"
          ]
        }
      ]
    },
    {
      "cell_type": "code",
      "source": [
        "Genres=[ 'rock', 'R&B', 'Soundtrack', 'R&B', 'soul', 'pop']\n",
        "for gen in Genres:\n",
        "  print(gen)"
      ],
      "metadata": {
        "id": "kWrrGJqPI2kB",
        "outputId": "3962f053-73b1-4fef-cf5f-5d0a87694d5f",
        "colab": {
          "base_uri": "https://localhost:8080/"
        }
      },
      "execution_count": 17,
      "outputs": [
        {
          "output_type": "stream",
          "name": "stdout",
          "text": [
            "rock\n",
            "R&B\n",
            "Soundtrack\n",
            "R&B\n",
            "soul\n",
            "pop\n"
          ]
        }
      ]
    },
    {
      "cell_type": "code",
      "source": [
        "squares=['red', 'yellow', 'green', 'purple', 'blue']\n",
        "for color in squares:\n",
        "  print(color)"
      ],
      "metadata": {
        "id": "_UHvLWINI2hq",
        "outputId": "bc6f85c7-3eac-4d2a-8bc4-3c1fe63bdd6e",
        "colab": {
          "base_uri": "https://localhost:8080/"
        }
      },
      "execution_count": 18,
      "outputs": [
        {
          "output_type": "stream",
          "name": "stdout",
          "text": [
            "red\n",
            "yellow\n",
            "green\n",
            "purple\n",
            "blue\n"
          ]
        }
      ]
    },
    {
      "cell_type": "code",
      "source": [
        "PlayListRatings = [10, 9.5, 10, 8, 7.5, 5, 10, 10]\n",
        "for currenRating in PlayListRatings:\n",
        "  if(currenRating > 5):\n",
        "    print(currenRating)\n",
        "  else:\n",
        "    break\n",
        "i=0\n",
        "print('--------')\n",
        "while(5 < PlayListRatings[i] ):\n",
        "  print(PlayListRatings[i])\n",
        "  i=i+1\n",
        "print('--------')\n",
        "i = 0\n",
        "Rating = PlayListRatings[0]\n",
        "while(i < len(PlayListRatings) and Rating >= 6):\n",
        "    print(Rating)\n",
        "    i = i + 1 # This prints the value 10 only once \n",
        "    Rating = PlayListRatings[i]\n",
        "    i = i + 1 #Try uncommenting the line and comment the previous i = i + 1, and see the difference, 10 value will get printed twice because when the loop starts it will print Rating and then with PlayListRatings[0], it will again assign the value 10 to Ratings. "
      ],
      "metadata": {
        "id": "poHEnGNXI2e2",
        "outputId": "bab28574-aae0-4cbe-bea0-e8f81994b817",
        "colab": {
          "base_uri": "https://localhost:8080/"
        }
      },
      "execution_count": 23,
      "outputs": [
        {
          "output_type": "stream",
          "name": "stdout",
          "text": [
            "10\n",
            "9.5\n",
            "10\n",
            "8\n",
            "7.5\n",
            "--------\n",
            "10\n",
            "9.5\n",
            "10\n",
            "8\n",
            "7.5\n",
            "--------\n",
            "10\n",
            "9.5\n",
            "8\n"
          ]
        }
      ]
    },
    {
      "cell_type": "code",
      "source": [
        "squares = ['orange', 'orange', 'purple', 'blue ', 'orange']\n",
        "new_squares = []\n",
        "for square in squares:\n",
        "  if square == 'orange':\n",
        "    new_squares.append(square)\n",
        "  else:\n",
        "    break\n",
        "print(new_squares)\n",
        "print('--------')\n",
        "new_squares = []\n",
        "i = 0\n",
        "while(i < len(squares) and squares[i] == 'orange'):\n",
        "    new_squares.append(squares[i])\n",
        "    i = i + 1\n",
        "print (new_squares)\n",
        "    "
      ],
      "metadata": {
        "id": "cdie9PgAI2b7",
        "outputId": "3a20f276-7df0-41a3-9f9b-c9ad54360a11",
        "colab": {
          "base_uri": "https://localhost:8080/"
        }
      },
      "execution_count": 27,
      "outputs": [
        {
          "output_type": "stream",
          "name": "stdout",
          "text": [
            "['orange', 'orange']\n",
            "--------\n",
            "['orange', 'orange']\n"
          ]
        }
      ]
    },
    {
      "cell_type": "code",
      "source": [
        "a=1\n",
        "def add(b):\n",
        "  return a+b\n",
        "c=add(10)\n",
        "print(c)"
      ],
      "metadata": {
        "id": "azM4kUP7I2Yb",
        "outputId": "f0de68a3-bd5e-4fcf-d8b2-e6b516fe7683",
        "colab": {
          "base_uri": "https://localhost:8080/"
        }
      },
      "execution_count": 28,
      "outputs": [
        {
          "output_type": "stream",
          "name": "stdout",
          "text": [
            "11\n"
          ]
        }
      ]
    },
    {
      "cell_type": "code",
      "source": [
        "def f(*x):\n",
        "  return sum(x)\n",
        "print(f(1,2,3))"
      ],
      "metadata": {
        "id": "TVt4AJJgMaCb",
        "outputId": "c7a72499-4e0e-4861-d532-548dae4e2e32",
        "colab": {
          "base_uri": "https://localhost:8080/"
        }
      },
      "execution_count": 32,
      "outputs": [
        {
          "output_type": "stream",
          "name": "stdout",
          "text": [
            "6\n"
          ]
        }
      ]
    },
    {
      "cell_type": "code",
      "source": [
        "def dev(x,y):\n",
        "  return x/y\n",
        "print(dev(9,3))\n",
        "print(dev(10,4))"
      ],
      "metadata": {
        "id": "rsIypKlmMZ_0",
        "outputId": "26ca8e24-5614-4a16-d350-a147666c3641",
        "colab": {
          "base_uri": "https://localhost:8080/"
        }
      },
      "execution_count": 34,
      "outputs": [
        {
          "output_type": "stream",
          "name": "stdout",
          "text": [
            "3.0\n",
            "2.5\n"
          ]
        }
      ]
    },
    {
      "cell_type": "code",
      "source": [
        "def con(a, b):\n",
        "    return(a + b)\n",
        "print(con(1,2))\n",
        "print(con([1,2,3],[4,5,6]))"
      ],
      "metadata": {
        "id": "T8Ye-YIBMZ8V",
        "outputId": "87b2773f-d82e-4b0f-dc67-1278decae884",
        "colab": {
          "base_uri": "https://localhost:8080/"
        }
      },
      "execution_count": 36,
      "outputs": [
        {
          "output_type": "stream",
          "name": "stdout",
          "text": [
            "3\n",
            "[1, 2, 3, 4, 5, 6]\n"
          ]
        }
      ]
    },
    {
      "cell_type": "code",
      "source": [
        "class Car:\n",
        "  def __init__(self, make, model, color):\n",
        "    self.make = make\n",
        "    self.model = model\n",
        "    self.color = color\n",
        "  def printAtt(self):\n",
        "    print(self.make, self.model, self.color)\n",
        "\n",
        "myCar = Car(\"Hoda\",\"Accord\",\"blue\")\n",
        "myCar.printAtt()"
      ],
      "metadata": {
        "id": "aG1q1koEMZ5-",
        "outputId": "bbab7c0e-0438-4088-f416-bc28c01aba55",
        "colab": {
          "base_uri": "https://localhost:8080/"
        }
      },
      "execution_count": 39,
      "outputs": [
        {
          "output_type": "stream",
          "name": "stdout",
          "text": [
            "Hoda Accord blue\n"
          ]
        }
      ]
    },
    {
      "cell_type": "code",
      "source": [
        "x=1\n",
        "if(x!=1):\n",
        "  print('Hello')\n",
        "else:\n",
        "  print('Hi')\n",
        "print('Mike')"
      ],
      "metadata": {
        "id": "BR68NkCfMZ3o",
        "outputId": "f519bdf7-49ed-43f6-9c26-103528dadd0c",
        "colab": {
          "base_uri": "https://localhost:8080/"
        }
      },
      "execution_count": 40,
      "outputs": [
        {
          "output_type": "stream",
          "name": "stdout",
          "text": [
            "Hi\n",
            "Mike\n"
          ]
        }
      ]
    },
    {
      "cell_type": "code",
      "source": [
        "A = ['1','2','3']\n",
        "for a in A:\n",
        "  print(2*a)"
      ],
      "metadata": {
        "id": "ywNvc0UVMZyH",
        "outputId": "9793dc45-c028-4592-cd9a-d5775b052abb",
        "colab": {
          "base_uri": "https://localhost:8080/"
        }
      },
      "execution_count": 41,
      "outputs": [
        {
          "output_type": "stream",
          "name": "stdout",
          "text": [
            "11\n",
            "22\n",
            "33\n"
          ]
        }
      ]
    },
    {
      "cell_type": "code",
      "source": [
        "def Delta(x):\n",
        "  if x==0:\n",
        "    y=1;\n",
        "  else:\n",
        "    y=0;\n",
        "  return(y)\n",
        "print(Delta(0))"
      ],
      "metadata": {
        "id": "i7Enjyr6PPjW",
        "outputId": "bb365ffe-cdbc-4440-b2dc-fc99fa462ae1",
        "colab": {
          "base_uri": "https://localhost:8080/"
        }
      },
      "execution_count": 42,
      "outputs": [
        {
          "output_type": "stream",
          "name": "stdout",
          "text": [
            "1\n"
          ]
        }
      ]
    },
    {
      "cell_type": "code",
      "source": [
        "a=[-1,100,-30,6,-9]\n",
        "a.sort()\n",
        "print(a)"
      ],
      "metadata": {
        "id": "Y_LgZ3T4PPgZ",
        "outputId": "66b85864-697b-468b-bfcc-44e29a303ff8",
        "colab": {
          "base_uri": "https://localhost:8080/"
        }
      },
      "execution_count": 47,
      "outputs": [
        {
          "output_type": "stream",
          "name": "stdout",
          "text": [
            "[-30, -9, -1, 6, 100]\n"
          ]
        }
      ]
    },
    {
      "cell_type": "code",
      "source": [],
      "metadata": {
        "id": "Y7k29W43PPbf"
      },
      "execution_count": null,
      "outputs": []
    }
  ]
}