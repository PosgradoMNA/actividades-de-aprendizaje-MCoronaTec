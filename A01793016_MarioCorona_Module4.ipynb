{
  "nbformat": 4,
  "nbformat_minor": 0,
  "metadata": {
    "colab": {
      "name": "assignment01.ipynb",
      "provenance": [],
      "include_colab_link": true
    },
    "kernelspec": {
      "name": "python3",
      "display_name": "Python 3"
    },
    "language_info": {
      "name": "python"
    }
  },
  "cells": [
    {
      "cell_type": "markdown",
      "metadata": {
        "id": "view-in-github",
        "colab_type": "text"
      },
      "source": [
        "<a href=\"https://colab.research.google.com/github/PosgradoMNA/actividades-de-aprendizaje-MCoronaTec/blob/main/A01793016_MarioCorona_Module4.ipynb\" target=\"_parent\"><img src=\"https://colab.research.google.com/assets/colab-badge.svg\" alt=\"Open In Colab\"/></a>"
      ]
    },
    {
      "cell_type": "markdown",
      "source": [
        "# Python IBM Módule 4\n",
        "\n",
        "**Alumno:** Mario Alberto Corona Cadenas\n",
        "\n",
        "**Matricula:** A01793016"
      ],
      "metadata": {
        "id": "BeiOa1wtBcmN"
      }
    },
    {
      "cell_type": "markdown",
      "source": [
        "# File Object\n",
        "- Usamos el método `open` que recibe el path de archivo como parámetro\n",
        "- `with` se usa para manipulta el archivo y fuera de el, el archivo se cierra\n",
        "- `read` es el metodo a usar para leer el conternido"
      ],
      "metadata": {
        "id": "Vf08zx45GuMw"
      }
    }
  ]
}