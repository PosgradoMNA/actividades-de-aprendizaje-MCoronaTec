{
  "nbformat": 4,
  "nbformat_minor": 0,
  "metadata": {
    "colab": {
      "provenance": [],
      "include_colab_link": true
    },
    "kernelspec": {
      "name": "python3",
      "display_name": "Python 3"
    },
    "language_info": {
      "name": "python"
    }
  },
  "cells": [
    {
      "cell_type": "markdown",
      "metadata": {
        "id": "view-in-github",
        "colab_type": "text"
      },
      "source": [
        "<a href=\"https://colab.research.google.com/github/PosgradoMNA/actividades-de-aprendizaje-MCoronaTec/blob/main/A01793016_MarioCorona_Module4.ipynb\" target=\"_parent\"><img src=\"https://colab.research.google.com/assets/colab-badge.svg\" alt=\"Open In Colab\"/></a>"
      ]
    },
    {
      "cell_type": "markdown",
      "source": [
        "# Python IBM Módulo 4\n",
        "\n",
        "**Alumno:** Mario Alberto Corona Cadenas\n",
        "\n",
        "**Matricula:** A01793016"
      ],
      "metadata": {
        "id": "BeiOa1wtBcmN"
      }
    },
    {
      "cell_type": "markdown",
      "source": [
        "# File Object\n",
        "- Usamos el método `open` que recibe el path de archivo como parámetro\n",
        "- `with` se usa para manipulta el archivo y fuera de el, el archivo se cierra\n",
        "- `read` es el metodo a usar para leer el conternido"
      ],
      "metadata": {
        "id": "Vf08zx45GuMw"
      }
    },
    {
      "cell_type": "code",
      "source": [
        "with open(\"testFile.txt\") as File1:\n",
        "  file_stuff = File1.read()\n",
        "  print(file_stuff)\n",
        "\n",
        "print(File1.close())\n",
        "print(file_stuff)"
      ],
      "metadata": {
        "id": "SqQpxdL_H9kr"
      },
      "execution_count": null,
      "outputs": []
    },
    {
      "cell_type": "markdown",
      "source": [
        "Usamos el método `readline()` para leer linea por linea"
      ],
      "metadata": {
        "id": "2pah_lqlIk1H"
      }
    },
    {
      "cell_type": "code",
      "source": [
        "with open(\"testFile.txt\") as File1:\n",
        "  file_line = File1.readline()\n",
        "  print(file_line)\n",
        "  file_line = File1.readline(1)\n",
        "  print(file_line)\n",
        "  file_line = File1.readline(1)\n",
        "  print(file_line)\n",
        "  file_line = File1.readline(1)\n",
        "  print(file_line)\n",
        "  file_line = File1.readline(1)\n",
        "  print(file_line)\n",
        "\n"
      ],
      "metadata": {
        "id": "FniVUzUtIZqZ",
        "outputId": "17feaea9-a1dd-4a3e-f7c0-7efdde5fb388",
        "colab": {
          "base_uri": "https://localhost:8080/"
        }
      },
      "execution_count": null,
      "outputs": [
        {
          "output_type": "stream",
          "name": "stdout",
          "text": [
            "Este es un archivo de prueba\n",
            "\n",
            "\n",
            "\n",
            "A\n",
            "q\n",
            "u\n"
          ]
        }
      ]
    },
    {
      "cell_type": "code",
      "source": [
        "# Con loop\n",
        "with open(\"testFile.txt\") as File1:\n",
        "  file_stuff = File1.readlines()\n",
        "  for currentLine in file_stuff:\n",
        "    print(currentLine)\n",
        "    "
      ],
      "metadata": {
        "id": "3t6uBU2mJVsX"
      },
      "execution_count": null,
      "outputs": []
    },
    {
      "cell_type": "markdown",
      "source": [
        "- Por medio de lineas incluidas es una lista y direccionandsolas con índices"
      ],
      "metadata": {
        "id": "Hit6VGC1Nb5S"
      }
    },
    {
      "cell_type": "code",
      "source": [
        "with open(\"testFile.txt\") as File1:\n",
        "  fileLines = File1.readlines()\n",
        "  print(fileLines[1])\n",
        "  print(fileLines[13])\n",
        "  print(fileLines[8])\n",
        "  print(fileLines[5])"
      ],
      "metadata": {
        "id": "4s4lAnMZNhS3",
        "outputId": "2e2c789c-849d-4379-b1a4-b68ab99186c6",
        "colab": {
          "base_uri": "https://localhost:8080/"
        }
      },
      "execution_count": null,
      "outputs": [
        {
          "output_type": "stream",
          "name": "stdout",
          "text": [
            "\n",
            "\n",
            "No resenta notebooks del Módulo 4.\n",
            "\n",
            "3 pts\n",
            "\n",
            "Semana 2 - Actividad 1: Python for Data Science (IBM)\n",
            "\n"
          ]
        }
      ]
    },
    {
      "cell_type": "markdown",
      "source": [
        "# Achivo `open` y método `write` \n",
        "- Con el método `write` podemos escribir en el archivo\n",
        "- Se debe indicar el modo de operación que se hará con el archivo, en este casp `\"w\"`\n"
      ],
      "metadata": {
        "id": "k15Y0vk5OY_p"
      }
    },
    {
      "cell_type": "code",
      "source": [],
      "metadata": {
        "id": "scgQFyszq7Sl"
      },
      "execution_count": null,
      "outputs": []
    },
    {
      "cell_type": "code",
      "source": [
        "with open(\"testFileWrite.txt\", \"w\") as File2:\n",
        "  File2.write(\"Esta es una nueva linea\")"
      ],
      "metadata": {
        "id": "qtr-ba23OwUo"
      },
      "execution_count": null,
      "outputs": []
    },
    {
      "cell_type": "markdown",
      "source": [
        "# Achivo `open` y método `append` \n",
        "- Con el método `write` podemos escribir en el archivo\n",
        "- Se debe indicar el modo de operación que se hará con el archivo, en este caso `\"a\"` para poder hacer un append de lineas\n"
      ],
      "metadata": {
        "id": "ptP4Gcbpqwo5"
      }
    },
    {
      "cell_type": "code",
      "source": [
        "with open(\"testFileAppend.txt\", \"w\") as File3:\n",
        "  for i in range (0,16):\n",
        "    File3.write(\"Esta es una nueva linea: \"+str(i)+\"\\n\")"
      ],
      "metadata": {
        "id": "jdx14PM1q9wF"
      },
      "execution_count": 26,
      "outputs": []
    },
    {
      "cell_type": "markdown",
      "source": [
        "# Copia Archivos\n",
        "- The following lines will copy line by line and append them in a new file"
      ],
      "metadata": {
        "id": "jhNZFqfmsNCA"
      }
    },
    {
      "cell_type": "code",
      "source": [
        "with open(\"testFile.txt\", \"r\") as file2Read:\n",
        "  fileReadLines = file2Read.readlines()\n",
        "  with open(\"testFileCopy.txt\", \"a\") as file2Copy:\n",
        "    for currentLine in fileReadLines:\n",
        "      print(currentLine)\n",
        "      file2Copy.write(currentLine)"
      ],
      "metadata": {
        "id": "fUF57UaEsXOJ"
      },
      "execution_count": null,
      "outputs": []
    },
    {
      "cell_type": "markdown",
      "source": [
        "# PANDAS\n"
      ],
      "metadata": {
        "id": "OMAb376eu8F_"
      }
    },
    {
      "cell_type": "code",
      "source": [
        "import pandas as pd\n",
        "csv_path='ex4.csv'\n",
        "df=pd.read_csv(csv_path)\n",
        "df.head() #Vemos las primeras 5 lineas del archivo"
      ],
      "metadata": {
        "id": "KqRET9Nqu_FB",
        "outputId": "c29dc717-01f5-4347-baa6-b863a264fcbf",
        "colab": {
          "base_uri": "https://localhost:8080/",
          "height": 206
        }
      },
      "execution_count": 44,
      "outputs": [
        {
          "output_type": "execute_result",
          "data": {
            "text/plain": [
              "                  Day  ONE_DAY_PRECIPITATION\n",
              "0  2020-06-01 0:00:00                    1.0\n",
              "1  2020-06-02 0:00:00                    5.6\n",
              "2  2020-06-03 0:00:00                    4.1\n",
              "3  2020-06-04 0:00:00                    4.0\n",
              "4  2020-06-05 0:00:00                    6.2"
            ],
            "text/html": [
              "\n",
              "  <div id=\"df-6d2c476f-0da0-425c-96f7-0c82042af1b0\">\n",
              "    <div class=\"colab-df-container\">\n",
              "      <div>\n",
              "<style scoped>\n",
              "    .dataframe tbody tr th:only-of-type {\n",
              "        vertical-align: middle;\n",
              "    }\n",
              "\n",
              "    .dataframe tbody tr th {\n",
              "        vertical-align: top;\n",
              "    }\n",
              "\n",
              "    .dataframe thead th {\n",
              "        text-align: right;\n",
              "    }\n",
              "</style>\n",
              "<table border=\"1\" class=\"dataframe\">\n",
              "  <thead>\n",
              "    <tr style=\"text-align: right;\">\n",
              "      <th></th>\n",
              "      <th>Day</th>\n",
              "      <th>ONE_DAY_PRECIPITATION</th>\n",
              "    </tr>\n",
              "  </thead>\n",
              "  <tbody>\n",
              "    <tr>\n",
              "      <th>0</th>\n",
              "      <td>2020-06-01 0:00:00</td>\n",
              "      <td>1.0</td>\n",
              "    </tr>\n",
              "    <tr>\n",
              "      <th>1</th>\n",
              "      <td>2020-06-02 0:00:00</td>\n",
              "      <td>5.6</td>\n",
              "    </tr>\n",
              "    <tr>\n",
              "      <th>2</th>\n",
              "      <td>2020-06-03 0:00:00</td>\n",
              "      <td>4.1</td>\n",
              "    </tr>\n",
              "    <tr>\n",
              "      <th>3</th>\n",
              "      <td>2020-06-04 0:00:00</td>\n",
              "      <td>4.0</td>\n",
              "    </tr>\n",
              "    <tr>\n",
              "      <th>4</th>\n",
              "      <td>2020-06-05 0:00:00</td>\n",
              "      <td>6.2</td>\n",
              "    </tr>\n",
              "  </tbody>\n",
              "</table>\n",
              "</div>\n",
              "      <button class=\"colab-df-convert\" onclick=\"convertToInteractive('df-6d2c476f-0da0-425c-96f7-0c82042af1b0')\"\n",
              "              title=\"Convert this dataframe to an interactive table.\"\n",
              "              style=\"display:none;\">\n",
              "        \n",
              "  <svg xmlns=\"http://www.w3.org/2000/svg\" height=\"24px\"viewBox=\"0 0 24 24\"\n",
              "       width=\"24px\">\n",
              "    <path d=\"M0 0h24v24H0V0z\" fill=\"none\"/>\n",
              "    <path d=\"M18.56 5.44l.94 2.06.94-2.06 2.06-.94-2.06-.94-.94-2.06-.94 2.06-2.06.94zm-11 1L8.5 8.5l.94-2.06 2.06-.94-2.06-.94L8.5 2.5l-.94 2.06-2.06.94zm10 10l.94 2.06.94-2.06 2.06-.94-2.06-.94-.94-2.06-.94 2.06-2.06.94z\"/><path d=\"M17.41 7.96l-1.37-1.37c-.4-.4-.92-.59-1.43-.59-.52 0-1.04.2-1.43.59L10.3 9.45l-7.72 7.72c-.78.78-.78 2.05 0 2.83L4 21.41c.39.39.9.59 1.41.59.51 0 1.02-.2 1.41-.59l7.78-7.78 2.81-2.81c.8-.78.8-2.07 0-2.86zM5.41 20L4 18.59l7.72-7.72 1.47 1.35L5.41 20z\"/>\n",
              "  </svg>\n",
              "      </button>\n",
              "      \n",
              "  <style>\n",
              "    .colab-df-container {\n",
              "      display:flex;\n",
              "      flex-wrap:wrap;\n",
              "      gap: 12px;\n",
              "    }\n",
              "\n",
              "    .colab-df-convert {\n",
              "      background-color: #E8F0FE;\n",
              "      border: none;\n",
              "      border-radius: 50%;\n",
              "      cursor: pointer;\n",
              "      display: none;\n",
              "      fill: #1967D2;\n",
              "      height: 32px;\n",
              "      padding: 0 0 0 0;\n",
              "      width: 32px;\n",
              "    }\n",
              "\n",
              "    .colab-df-convert:hover {\n",
              "      background-color: #E2EBFA;\n",
              "      box-shadow: 0px 1px 2px rgba(60, 64, 67, 0.3), 0px 1px 3px 1px rgba(60, 64, 67, 0.15);\n",
              "      fill: #174EA6;\n",
              "    }\n",
              "\n",
              "    [theme=dark] .colab-df-convert {\n",
              "      background-color: #3B4455;\n",
              "      fill: #D2E3FC;\n",
              "    }\n",
              "\n",
              "    [theme=dark] .colab-df-convert:hover {\n",
              "      background-color: #434B5C;\n",
              "      box-shadow: 0px 1px 3px 1px rgba(0, 0, 0, 0.15);\n",
              "      filter: drop-shadow(0px 1px 2px rgba(0, 0, 0, 0.3));\n",
              "      fill: #FFFFFF;\n",
              "    }\n",
              "  </style>\n",
              "\n",
              "      <script>\n",
              "        const buttonEl =\n",
              "          document.querySelector('#df-6d2c476f-0da0-425c-96f7-0c82042af1b0 button.colab-df-convert');\n",
              "        buttonEl.style.display =\n",
              "          google.colab.kernel.accessAllowed ? 'block' : 'none';\n",
              "\n",
              "        async function convertToInteractive(key) {\n",
              "          const element = document.querySelector('#df-6d2c476f-0da0-425c-96f7-0c82042af1b0');\n",
              "          const dataTable =\n",
              "            await google.colab.kernel.invokeFunction('convertToInteractive',\n",
              "                                                     [key], {});\n",
              "          if (!dataTable) return;\n",
              "\n",
              "          const docLinkHtml = 'Like what you see? Visit the ' +\n",
              "            '<a target=\"_blank\" href=https://colab.research.google.com/notebooks/data_table.ipynb>data table notebook</a>'\n",
              "            + ' to learn more about interactive tables.';\n",
              "          element.innerHTML = '';\n",
              "          dataTable['output_type'] = 'display_data';\n",
              "          await google.colab.output.renderOutput(dataTable, element);\n",
              "          const docLink = document.createElement('div');\n",
              "          docLink.innerHTML = docLinkHtml;\n",
              "          element.appendChild(docLink);\n",
              "        }\n",
              "      </script>\n",
              "    </div>\n",
              "  </div>\n",
              "  "
            ]
          },
          "metadata": {},
          "execution_count": 44
        }
      ]
    },
    {
      "cell_type": "code",
      "source": [
        "df=pd.DataFrame({'a':[11,21,31],'b':[21,22,23]})\n",
        "\n",
        "df.head()"
      ],
      "metadata": {
        "id": "kyPC6Omiy6N-",
        "outputId": "8bd9c56c-0c78-4a8b-92ef-e8a17c74fd93",
        "colab": {
          "base_uri": "https://localhost:8080/",
          "height": 143
        }
      },
      "execution_count": 43,
      "outputs": [
        {
          "output_type": "execute_result",
          "data": {
            "text/plain": [
              "    a   b\n",
              "0  11  21\n",
              "1  21  22\n",
              "2  31  23"
            ],
            "text/html": [
              "\n",
              "  <div id=\"df-4c694fe0-950d-48e7-a111-69094afc1a8a\">\n",
              "    <div class=\"colab-df-container\">\n",
              "      <div>\n",
              "<style scoped>\n",
              "    .dataframe tbody tr th:only-of-type {\n",
              "        vertical-align: middle;\n",
              "    }\n",
              "\n",
              "    .dataframe tbody tr th {\n",
              "        vertical-align: top;\n",
              "    }\n",
              "\n",
              "    .dataframe thead th {\n",
              "        text-align: right;\n",
              "    }\n",
              "</style>\n",
              "<table border=\"1\" class=\"dataframe\">\n",
              "  <thead>\n",
              "    <tr style=\"text-align: right;\">\n",
              "      <th></th>\n",
              "      <th>a</th>\n",
              "      <th>b</th>\n",
              "    </tr>\n",
              "  </thead>\n",
              "  <tbody>\n",
              "    <tr>\n",
              "      <th>0</th>\n",
              "      <td>11</td>\n",
              "      <td>21</td>\n",
              "    </tr>\n",
              "    <tr>\n",
              "      <th>1</th>\n",
              "      <td>21</td>\n",
              "      <td>22</td>\n",
              "    </tr>\n",
              "    <tr>\n",
              "      <th>2</th>\n",
              "      <td>31</td>\n",
              "      <td>23</td>\n",
              "    </tr>\n",
              "  </tbody>\n",
              "</table>\n",
              "</div>\n",
              "      <button class=\"colab-df-convert\" onclick=\"convertToInteractive('df-4c694fe0-950d-48e7-a111-69094afc1a8a')\"\n",
              "              title=\"Convert this dataframe to an interactive table.\"\n",
              "              style=\"display:none;\">\n",
              "        \n",
              "  <svg xmlns=\"http://www.w3.org/2000/svg\" height=\"24px\"viewBox=\"0 0 24 24\"\n",
              "       width=\"24px\">\n",
              "    <path d=\"M0 0h24v24H0V0z\" fill=\"none\"/>\n",
              "    <path d=\"M18.56 5.44l.94 2.06.94-2.06 2.06-.94-2.06-.94-.94-2.06-.94 2.06-2.06.94zm-11 1L8.5 8.5l.94-2.06 2.06-.94-2.06-.94L8.5 2.5l-.94 2.06-2.06.94zm10 10l.94 2.06.94-2.06 2.06-.94-2.06-.94-.94-2.06-.94 2.06-2.06.94z\"/><path d=\"M17.41 7.96l-1.37-1.37c-.4-.4-.92-.59-1.43-.59-.52 0-1.04.2-1.43.59L10.3 9.45l-7.72 7.72c-.78.78-.78 2.05 0 2.83L4 21.41c.39.39.9.59 1.41.59.51 0 1.02-.2 1.41-.59l7.78-7.78 2.81-2.81c.8-.78.8-2.07 0-2.86zM5.41 20L4 18.59l7.72-7.72 1.47 1.35L5.41 20z\"/>\n",
              "  </svg>\n",
              "      </button>\n",
              "      \n",
              "  <style>\n",
              "    .colab-df-container {\n",
              "      display:flex;\n",
              "      flex-wrap:wrap;\n",
              "      gap: 12px;\n",
              "    }\n",
              "\n",
              "    .colab-df-convert {\n",
              "      background-color: #E8F0FE;\n",
              "      border: none;\n",
              "      border-radius: 50%;\n",
              "      cursor: pointer;\n",
              "      display: none;\n",
              "      fill: #1967D2;\n",
              "      height: 32px;\n",
              "      padding: 0 0 0 0;\n",
              "      width: 32px;\n",
              "    }\n",
              "\n",
              "    .colab-df-convert:hover {\n",
              "      background-color: #E2EBFA;\n",
              "      box-shadow: 0px 1px 2px rgba(60, 64, 67, 0.3), 0px 1px 3px 1px rgba(60, 64, 67, 0.15);\n",
              "      fill: #174EA6;\n",
              "    }\n",
              "\n",
              "    [theme=dark] .colab-df-convert {\n",
              "      background-color: #3B4455;\n",
              "      fill: #D2E3FC;\n",
              "    }\n",
              "\n",
              "    [theme=dark] .colab-df-convert:hover {\n",
              "      background-color: #434B5C;\n",
              "      box-shadow: 0px 1px 3px 1px rgba(0, 0, 0, 0.15);\n",
              "      filter: drop-shadow(0px 1px 2px rgba(0, 0, 0, 0.3));\n",
              "      fill: #FFFFFF;\n",
              "    }\n",
              "  </style>\n",
              "\n",
              "      <script>\n",
              "        const buttonEl =\n",
              "          document.querySelector('#df-4c694fe0-950d-48e7-a111-69094afc1a8a button.colab-df-convert');\n",
              "        buttonEl.style.display =\n",
              "          google.colab.kernel.accessAllowed ? 'block' : 'none';\n",
              "\n",
              "        async function convertToInteractive(key) {\n",
              "          const element = document.querySelector('#df-4c694fe0-950d-48e7-a111-69094afc1a8a');\n",
              "          const dataTable =\n",
              "            await google.colab.kernel.invokeFunction('convertToInteractive',\n",
              "                                                     [key], {});\n",
              "          if (!dataTable) return;\n",
              "\n",
              "          const docLinkHtml = 'Like what you see? Visit the ' +\n",
              "            '<a target=\"_blank\" href=https://colab.research.google.com/notebooks/data_table.ipynb>data table notebook</a>'\n",
              "            + ' to learn more about interactive tables.';\n",
              "          element.innerHTML = '';\n",
              "          dataTable['output_type'] = 'display_data';\n",
              "          await google.colab.output.renderOutput(dataTable, element);\n",
              "          const docLink = document.createElement('div');\n",
              "          docLink.innerHTML = docLinkHtml;\n",
              "          element.appendChild(docLink);\n",
              "        }\n",
              "      </script>\n",
              "    </div>\n",
              "  </div>\n",
              "  "
            ]
          },
          "metadata": {},
          "execution_count": 43
        }
      ]
    },
    {
      "cell_type": "markdown",
      "source": [
        "# `unique`\n",
        "- Este metodo devuelve los valores unicos encontrados"
      ],
      "metadata": {
        "id": "Wa4bcCCSzoCn"
      }
    },
    {
      "cell_type": "code",
      "source": [
        "import pandas as pd\n",
        "csv_path='ex4.csv'\n",
        "df=pd.read_csv(csv_path)\n",
        "print(df['ONE_DAY_PRECIPITATION'].unique())\n",
        "print(df['ONE_DAY_PRECIPITATION']>=2.4)\n",
        "df1=df[df['ONE_DAY_PRECIPITATION']>=2.4]\n",
        "print(df1)\n"
      ],
      "metadata": {
        "id": "8sYj_C2az0FB"
      },
      "execution_count": null,
      "outputs": []
    }
  ]
}