{
  "nbformat": 4,
  "nbformat_minor": 0,
  "metadata": {
    "colab": {
      "provenance": [],
      "include_colab_link": true
    },
    "kernelspec": {
      "name": "python3",
      "display_name": "Python 3"
    },
    "language_info": {
      "name": "python"
    }
  },
  "cells": [
    {
      "cell_type": "markdown",
      "metadata": {
        "id": "view-in-github",
        "colab_type": "text"
      },
      "source": [
        "<a href=\"https://colab.research.google.com/github/PosgradoMNA/actividades-de-aprendizaje-MCoronaTec/blob/main/A01793016_MarioCorona_Module4.ipynb\" target=\"_parent\"><img src=\"https://colab.research.google.com/assets/colab-badge.svg\" alt=\"Open In Colab\"/></a>"
      ]
    },
    {
      "cell_type": "markdown",
      "source": [
        "# Python IBM Módulo 4\n",
        "\n",
        "**Alumno:** Mario Alberto Corona Cadenas\n",
        "\n",
        "**Matricula:** A01793016"
      ],
      "metadata": {
        "id": "BeiOa1wtBcmN"
      }
    },
    {
      "cell_type": "markdown",
      "source": [
        "# File Object\n",
        "- Usamos el método `open` que recibe el path de archivo como parámetro\n",
        "- `with` se usa para manipulta el archivo y fuera de el, el archivo se cierra\n",
        "- `read` es el metodo a usar para leer el conternido"
      ],
      "metadata": {
        "id": "Vf08zx45GuMw"
      }
    },
    {
      "cell_type": "code",
      "source": [
        "with open(\"testFile.txt\") as File1:\n",
        "  file_stuff = File1.read()\n",
        "  print(file_stuff)\n",
        "\n",
        "print(File1.close())\n",
        "print(file_stuff)"
      ],
      "metadata": {
        "id": "SqQpxdL_H9kr"
      },
      "execution_count": null,
      "outputs": []
    },
    {
      "cell_type": "markdown",
      "source": [
        "Usamos el método `readline()` para leer linea por linea"
      ],
      "metadata": {
        "id": "2pah_lqlIk1H"
      }
    },
    {
      "cell_type": "code",
      "source": [
        "with open(\"testFile.txt\") as File1:\n",
        "  file_line = File1.readline()\n",
        "  print(file_line)\n",
        "  file_line = File1.readline(1)\n",
        "  print(file_line)\n",
        "  file_line = File1.readline(1)\n",
        "  print(file_line)\n",
        "  file_line = File1.readline(1)\n",
        "  print(file_line)\n",
        "  file_line = File1.readline(1)\n",
        "  print(file_line)\n",
        "\n"
      ],
      "metadata": {
        "id": "FniVUzUtIZqZ",
        "outputId": "17feaea9-a1dd-4a3e-f7c0-7efdde5fb388",
        "colab": {
          "base_uri": "https://localhost:8080/"
        }
      },
      "execution_count": null,
      "outputs": [
        {
          "output_type": "stream",
          "name": "stdout",
          "text": [
            "Este es un archivo de prueba\n",
            "\n",
            "\n",
            "\n",
            "A\n",
            "q\n",
            "u\n"
          ]
        }
      ]
    },
    {
      "cell_type": "code",
      "source": [
        "# Con loop\n",
        "with open(\"testFile.txt\") as File1:\n",
        "  file_stuff = File1.readlines()\n",
        "  for currentLine in file_stuff:\n",
        "    print(currentLine)\n",
        "    "
      ],
      "metadata": {
        "id": "3t6uBU2mJVsX"
      },
      "execution_count": null,
      "outputs": []
    },
    {
      "cell_type": "markdown",
      "source": [
        "- Por medio de lineas incluidas es una lista y direccionandsolas con índices"
      ],
      "metadata": {
        "id": "Hit6VGC1Nb5S"
      }
    },
    {
      "cell_type": "code",
      "source": [
        "with open(\"testFile.txt\") as File1:\n",
        "  fileLines = File1.readlines()\n",
        "  print(fileLines[1])\n",
        "  print(fileLines[13])\n",
        "  print(fileLines[8])\n",
        "  print(fileLines[5])"
      ],
      "metadata": {
        "id": "4s4lAnMZNhS3",
        "outputId": "2e2c789c-849d-4379-b1a4-b68ab99186c6",
        "colab": {
          "base_uri": "https://localhost:8080/"
        }
      },
      "execution_count": null,
      "outputs": [
        {
          "output_type": "stream",
          "name": "stdout",
          "text": [
            "\n",
            "\n",
            "No resenta notebooks del Módulo 4.\n",
            "\n",
            "3 pts\n",
            "\n",
            "Semana 2 - Actividad 1: Python for Data Science (IBM)\n",
            "\n"
          ]
        }
      ]
    },
    {
      "cell_type": "markdown",
      "source": [
        "# Achivo `open` y método `write` \n",
        "- Con el método `write` podemos escribir en el archivo\n",
        "- Se debe indicar el modo de operación que se hará con el archivo, en este casp `\"w\"`\n"
      ],
      "metadata": {
        "id": "k15Y0vk5OY_p"
      }
    },
    {
      "cell_type": "code",
      "source": [],
      "metadata": {
        "id": "mJFWKyOrPumK"
      },
      "execution_count": null,
      "outputs": []
    },
    {
      "cell_type": "code",
      "source": [
        "with open(\"testFileWrite.txt\", \"w\") as File2:\n",
        "  File2.write(\"Esta es una nueva linea\")"
      ],
      "metadata": {
        "id": "qtr-ba23OwUo"
      },
      "execution_count": null,
      "outputs": []
    }
  ]
}