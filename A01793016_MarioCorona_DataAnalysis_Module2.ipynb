{
  "nbformat": 4,
  "nbformat_minor": 0,
  "metadata": {
    "colab": {
      "provenance": [],
      "authorship_tag": "ABX9TyPgQhJmBCSBE19feW+dD+sH",
      "include_colab_link": true
    },
    "kernelspec": {
      "name": "python3",
      "display_name": "Python 3"
    },
    "language_info": {
      "name": "python"
    }
  },
  "cells": [
    {
      "cell_type": "markdown",
      "metadata": {
        "id": "view-in-github",
        "colab_type": "text"
      },
      "source": [
        "<a href=\"https://colab.research.google.com/github/PosgradoMNA/actividades-de-aprendizaje-MCoronaTec/blob/main/A01793016_MarioCorona_DataAnalysis_Module2.ipynb\" target=\"_parent\"><img src=\"https://colab.research.google.com/assets/colab-badge.svg\" alt=\"Open In Colab\"/></a>"
      ]
    },
    {
      "cell_type": "markdown",
      "source": [
        "# Data Analysis with Python\n",
        "# Modulo 2\n",
        "\n",
        "**Nombre:** Mario Alberto Corona Cadenas\n",
        "\n",
        "**Matrícula:** A01793016"
      ],
      "metadata": {
        "id": "EXWf2xGFs3Gv"
      }
    },
    {
      "cell_type": "markdown",
      "source": [
        "# Data Pre-prosscesing\n",
        "\n",
        "Parte del trabajo es convertir formatos de los archivos a formatos conocidos para el procesamiento. Además de limpiar los datos o sustituir cuando hay datos vacios.\n",
        "\n",
        "En python los valores están definidos en renglones y las variables de dichos valores son las columnas.\n",
        "\n",
        "Se puede acceder a las columnas usando el nombre de ellas *e.i* `df['columna1']`"
      ],
      "metadata": {
        "id": "kVcWkaRxtQMT"
      }
    },
    {
      "cell_type": "markdown",
      "source": [
        "# Missing Values\n",
        "\n",
        "Los valores perdidos pueden estar representados pro `?`, `NaN`, `0` o la celda en blanco.\n",
        "\n",
        "# Opciones de limpieza\n",
        "\n",
        " - Remover la variable\n",
        " - Remover la entrada al valor faltante \n",
        " - Reemplazar datos por frecuencia\n",
        " - Reemplazar por el promedio\n",
        " - Reemplazar basado en otras funciones\n",
        " - Categorizar la información faltante como *missing data*"
      ],
      "metadata": {
        "id": "4kMdE3Ntuq-Y"
      }
    },
    {
      "cell_type": "markdown",
      "source": [
        "# `dropna()`\n",
        "\n",
        "Esta función ayuda a limpiar columnas que no tienen datos o bien, se puede elegir la columna. Esto último con el argumento `axis`:\n",
        " - `axis=0` Remueve la fila \n",
        " - `axis=1` Remueve la columna\n",
        "El argumento `inplace` forzara a actulizar la variable del data frame con lo nuevos valores siempre y cuando esta sea `True`\n",
        "\n",
        "*e.i*\n",
        "\n",
        "`df.dropna(subset=['price'], axis=1, inplace=True)`"
      ],
      "metadata": {
        "id": "W6DE-qptwTSU"
      }
    },
    {
      "cell_type": "markdown",
      "source": [
        "# `replace()`\n",
        "\n",
        "Este método lo usaremos para reemplazar valores faltantesÑ\n",
        "\n",
        "`df.replace(missing_value, new_value)`\n",
        "\n",
        "Se calcula por ejemplo la  meadia para ser el valor que se usara como sustituto:\n",
        "\n",
        "```\n",
        "mean = df['valores'].mean()\n",
        "df.['valores'].replace(np.nan, mean)\n",
        "```"
      ],
      "metadata": {
        "id": "M9yUt98Qxo4i"
      }
    },
    {
      "cell_type": "code",
      "execution_count": null,
      "metadata": {
        "id": "mrBCDCf5srU3"
      },
      "outputs": [],
      "source": []
    }
  ]
}