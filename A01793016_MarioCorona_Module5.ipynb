{
  "nbformat": 4,
  "nbformat_minor": 0,
  "metadata": {
    "colab": {
      "name": "assignment01.ipynb",
      "provenance": [],
      "include_colab_link": true
    },
    "kernelspec": {
      "name": "python3",
      "display_name": "Python 3"
    },
    "language_info": {
      "name": "python"
    }
  },
  "cells": [
    {
      "cell_type": "markdown",
      "metadata": {
        "id": "view-in-github",
        "colab_type": "text"
      },
      "source": [
        "<a href=\"https://colab.research.google.com/github/PosgradoMNA/actividades-de-aprendizaje-MCoronaTec/blob/main/A01793016_MarioCorona_Module5.ipynb\" target=\"_parent\"><img src=\"https://colab.research.google.com/assets/colab-badge.svg\" alt=\"Open In Colab\"/></a>"
      ]
    },
    {
      "cell_type": "markdown",
      "source": [
        "# Semana 3: Python for Data Science (IBM)\n",
        "**Alumno**: Mario Corona\n",
        "\n",
        "**Matrícula** : A01793016"
      ],
      "metadata": {
        "id": "fl2lm5AvDQ7m"
      }
    },
    {
      "cell_type": "markdown",
      "source": [
        "# Numpy 1D Arrays\n",
        "\n",
        "Una de las princiapales diferencias contra las listas de python:\n",
        "\n",
        "- Solo pueden contener valores numericos y todos del mismo tipo\n",
        "- Su tamaño es fijo"
      ],
      "metadata": {
        "id": "nI4gCaIHGG39"
      }
    },
    {
      "cell_type": "code",
      "execution_count": 19,
      "metadata": {
        "id": "LzUSMM79NR9P",
        "outputId": "185c3509-03f8-43b3-a10e-c4e75109edb1",
        "colab": {
          "base_uri": "https://localhost:8080/"
        }
      },
      "outputs": [
        {
          "output_type": "stream",
          "name": "stdout",
          "text": [
            "[0 1 2 3 4 5]\n"
          ]
        }
      ],
      "source": [
        "import numpy as np\n",
        "\n",
        "array = np.array([0,1,2,3,4,5])\n",
        "print(array)"
      ]
    },
    {
      "cell_type": "markdown",
      "source": [
        "Se puede acceder a sus elementos por medio de indices"
      ],
      "metadata": {
        "id": "90EK-QxfHWEE"
      }
    },
    {
      "cell_type": "code",
      "source": [
        "print(array[0])\n",
        "print(array[1])\n",
        "print(array[4])\n",
        "print(array[2])"
      ],
      "metadata": {
        "id": "mxM_WppZPMFx",
        "colab": {
          "base_uri": "https://localhost:8080/"
        },
        "outputId": "aa7903df-80cb-4ec4-baea-1cdcbce98ca7"
      },
      "execution_count": 20,
      "outputs": [
        {
          "output_type": "stream",
          "name": "stdout",
          "text": [
            "0\n",
            "1\n",
            "4\n",
            "2\n"
          ]
        }
      ]
    },
    {
      "cell_type": "markdown",
      "source": [
        "Para conocer el tipo de arreglo usamos el atributo `dtype`\n",
        "De igual forma se usa el atributo `size` para conocer su tamaño y `ndim` para conocer el numero de dimensiones.\n",
        "Por último,`shape` proporciona el tamaño del arreglo de cada dimensión"
      ],
      "metadata": {
        "id": "fGpQRcYTK5Vi"
      }
    },
    {
      "cell_type": "code",
      "source": [
        "print(array.dtype)\n",
        "print(array.size)\n",
        "print(array.ndim)\n",
        "print(array.shape)"
      ],
      "metadata": {
        "colab": {
          "base_uri": "https://localhost:8080/"
        },
        "id": "GRIey_5sH3zo",
        "outputId": "807b860f-1cc1-4ace-81ca-f3928bed7dd8"
      },
      "execution_count": 21,
      "outputs": [
        {
          "output_type": "stream",
          "name": "stdout",
          "text": [
            "int64\n",
            "6\n",
            "1\n",
            "(6,)\n"
          ]
        }
      ]
    },
    {
      "cell_type": "markdown",
      "source": [
        "Al igual que las listas, se pueden partir los arreglos"
      ],
      "metadata": {
        "id": "xOQ20RycJGZO"
      }
    },
    {
      "cell_type": "code",
      "source": [
        "my_array = array[2:4]\n",
        "print(my_array)\n",
        "print(array[-1:])\n",
        "print(array[3:])"
      ],
      "metadata": {
        "colab": {
          "base_uri": "https://localhost:8080/"
        },
        "id": "l9-ztL2IJKrT",
        "outputId": "9c6eb204-2ed2-4d80-fa3b-8f1c6f5ae99a"
      },
      "execution_count": 17,
      "outputs": [
        {
          "output_type": "stream",
          "name": "stdout",
          "text": [
            "[2 3]\n",
            "[4]\n",
            "[3 4]\n"
          ]
        }
      ]
    },
    {
      "cell_type": "markdown",
      "source": [
        "# Suma y Resta\n",
        "Se pueden hacer operaciones basicas de suma y resta entre los elementos de los arreglos"
      ],
      "metadata": {
        "id": "JGi9-RhoJ1T7"
      }
    },
    {
      "cell_type": "code",
      "source": [
        "a = np.array([1, 2, 3, 4, 5])\n",
        "b = np.array([5, 4, 3, 2, 1])\n",
        "\n",
        "c = a + b\n",
        "print(c)\n",
        "\n",
        "d = a - b\n",
        "print(d)"
      ],
      "metadata": {
        "colab": {
          "base_uri": "https://localhost:8080/"
        },
        "id": "J0RTzbTSJ-EZ",
        "outputId": "8fcb6f19-ba7a-4e50-8a28-d31960e4728a"
      },
      "execution_count": 18,
      "outputs": [
        {
          "output_type": "stream",
          "name": "stdout",
          "text": [
            "[6 6 6 6 6]\n",
            "[-4 -2  0  2  4]\n"
          ]
        }
      ]
    },
    {
      "cell_type": "markdown",
      "source": [
        "# Multiplicación escalar\n",
        "Los elemento de los arreglos pueden ser multiplicados por algún escalar"
      ],
      "metadata": {
        "id": "NejAz8OqK8XZ"
      }
    },
    {
      "cell_type": "code",
      "source": [
        "Array = 10*array\n",
        "print(Array)"
      ],
      "metadata": {
        "colab": {
          "base_uri": "https://localhost:8080/"
        },
        "id": "vR4l9MzYKtz9",
        "outputId": "05642249-723d-4b9a-ed98-eee1e4d560ed"
      },
      "execution_count": 22,
      "outputs": [
        {
          "output_type": "stream",
          "name": "stdout",
          "text": [
            "[ 0 10 20 30 40 50]\n"
          ]
        }
      ]
    },
    {
      "cell_type": "markdown",
      "source": [
        "# Multiplicación entre arreglos\n",
        "\n",
        "Al igual que la suma, también puede haber multiplicación entre arreglos (vectores)\n"
      ],
      "metadata": {
        "id": "pLR6j06MLUn5"
      }
    },
    {
      "cell_type": "code",
      "source": [
        "e = a * b\n",
        "print(a)\n",
        "print(b)\n",
        "print(e)"
      ],
      "metadata": {
        "colab": {
          "base_uri": "https://localhost:8080/"
        },
        "id": "ZU3Zmln7Lfzs",
        "outputId": "06877b9a-8829-439d-8b10-57557073466a"
      },
      "execution_count": 24,
      "outputs": [
        {
          "output_type": "stream",
          "name": "stdout",
          "text": [
            "[1 2 3 4 5]\n",
            "[5 4 3 2 1]\n",
            "[5 8 9 8 5]\n"
          ]
        }
      ]
    },
    {
      "cell_type": "markdown",
      "source": [
        "# Producot Punto\n",
        "Un funcionalidad bastante conveniente en las matemáticas, es el producto punto. La libreria `numpy` proporciona el método `dot` el cual es capaz de hacer dicha operación en tan solo una línea de código\n",
        "\n"
      ],
      "metadata": {
        "id": "fHpdrCcMLy65"
      }
    },
    {
      "cell_type": "code",
      "source": [
        "u = np.array([1,2])\n",
        "v = np.array([3,1])\n",
        "r = np.dot(u,v)\n",
        "print(r)"
      ],
      "metadata": {
        "colab": {
          "base_uri": "https://localhost:8080/"
        },
        "id": "hwsyUUz0MNau",
        "outputId": "60312d7b-9192-4e4c-cf69-a8851ef6c0fe"
      },
      "execution_count": 25,
      "outputs": [
        {
          "output_type": "stream",
          "name": "stdout",
          "text": [
            "5\n"
          ]
        }
      ]
    },
    {
      "cell_type": "markdown",
      "source": [
        "# Suma con un offset\n",
        "\n",
        "Muy parecido a la multiplicación por un escalar, se puede agregar un offset a todos los elementos de un arreglo"
      ],
      "metadata": {
        "id": "Kg9-M8D9NJxW"
      }
    },
    {
      "cell_type": "code",
      "source": [
        "off_array = 10 + array\n",
        "print(array)\n",
        "print(off_array)"
      ],
      "metadata": {
        "colab": {
          "base_uri": "https://localhost:8080/"
        },
        "id": "9qtUSYLVNVNe",
        "outputId": "61aa2814-895b-4646-ebee-22fdabed19c2"
      },
      "execution_count": 26,
      "outputs": [
        {
          "output_type": "stream",
          "name": "stdout",
          "text": [
            "[0 1 2 3 4 5]\n",
            "[10 11 12 13 14 15]\n"
          ]
        }
      ]
    },
    {
      "cell_type": "markdown",
      "source": [
        "# Funciones Universales\n",
        "`numpy` provee de funciones universales bastante convenientes para casos estadísticos"
      ],
      "metadata": {
        "id": "OwYbIo7DNuTi"
      }
    },
    {
      "cell_type": "code",
      "source": [
        "print(array.mean())\n",
        "print(array.max())\n",
        "print(array.min())\n",
        "print(np.sin(array))"
      ],
      "metadata": {
        "colab": {
          "base_uri": "https://localhost:8080/"
        },
        "id": "KGG58GDmNo4i",
        "outputId": "c5b53460-93ba-47d3-b7d6-fd69883875a2"
      },
      "execution_count": 31,
      "outputs": [
        {
          "output_type": "stream",
          "name": "stdout",
          "text": [
            "2.5\n",
            "5\n",
            "0\n",
            "[ 0.          0.84147098  0.90929743  0.14112001 -0.7568025  -0.95892427]\n"
          ]
        }
      ]
    },
    {
      "cell_type": "markdown",
      "source": [
        "# `linspace`\n",
        "Se pueden crear arreglos segmentados con valores especificos con el método `linspace`"
      ],
      "metadata": {
        "id": "C-Q0ZdHOO0DG"
      }
    },
    {
      "cell_type": "code",
      "source": [
        "s_a = np.linspace(-2,2,10)\n",
        "print(s_a)"
      ],
      "metadata": {
        "colab": {
          "base_uri": "https://localhost:8080/"
        },
        "id": "EzuLxWY0OpnR",
        "outputId": "4915cd84-9108-4a3a-a49b-542d1d5f30c2"
      },
      "execution_count": 33,
      "outputs": [
        {
          "output_type": "stream",
          "name": "stdout",
          "text": [
            "[-2.         -1.55555556 -1.11111111 -0.66666667 -0.22222222  0.22222222\n",
            "  0.66666667  1.11111111  1.55555556  2.        ]\n"
          ]
        }
      ]
    },
    {
      "cell_type": "markdown",
      "source": [
        "# Ploting\n",
        "Se puede hacer uso de la libreria `matplotlib` para que enconjunto con `numpy` generar gráfica\n"
      ],
      "metadata": {
        "id": "35rVgwgWPJP1"
      }
    },
    {
      "cell_type": "code",
      "source": [
        "import matplotlib.pyplot as plt\n",
        "\n",
        "x = np.linspace(0,2*np.pi,100)\n",
        "y = np.sin(x)\n",
        "plt.plot(x,y)"
      ],
      "metadata": {
        "colab": {
          "base_uri": "https://localhost:8080/",
          "height": 282
        },
        "id": "AM-yVzEgPTVW",
        "outputId": "6be2adc1-92f2-40f0-e651-2ddd7ffea473"
      },
      "execution_count": 34,
      "outputs": [
        {
          "output_type": "execute_result",
          "data": {
            "text/plain": [
              "[<matplotlib.lines.Line2D at 0x7fa8da41eed0>]"
            ]
          },
          "metadata": {},
          "execution_count": 34
        },
        {
          "output_type": "display_data",
          "data": {
            "text/plain": [
              "<Figure size 432x288 with 1 Axes>"
            ],
            "image/png": "[encoded data removed]"
          },
          "metadata": {
            "needs_background": "light"
          }
        }
      ]
    },
    {
      "cell_type": "markdown",
      "source": [
        "# 2D Array\n",
        "También se puede tener mas de una dimención en los arreglos `numpy`\n"
      ],
      "metadata": {
        "id": "0bUrER_3UiZf"
      }
    },
    {
      "cell_type": "code",
      "source": [
        "a_list = [[11,12,13],[21,22,23],[31,32,33]]\n",
        "a2D = np.array(a_list)\n",
        "print(a2D.ndim)\n",
        "print(a2D.shape)\n",
        "print(a2D.size)"
      ],
      "metadata": {
        "id": "sy1_cGb_Ufqp",
        "outputId": "70ebbb4c-2677-47d2-eda0-e6376faed867",
        "colab": {
          "base_uri": "https://localhost:8080/"
        }
      },
      "execution_count": 37,
      "outputs": [
        {
          "output_type": "stream",
          "name": "stdout",
          "text": [
            "2\n",
            "(3, 3)\n",
            "9\n"
          ]
        }
      ]
    },
    {
      "cell_type": "markdown",
      "source": [
        "Para acceder a los elementos se pude hacer mediante los indices: `[row_index][colum_index]"
      ],
      "metadata": {
        "id": "YJkM1LoEVlqO"
      }
    },
    {
      "cell_type": "code",
      "source": [
        "print(a2D[1][1])\n",
        "print(a2D[2][0])"
      ],
      "metadata": {
        "id": "Nc1v2sDKVws1",
        "outputId": "78a31257-cd46-45bc-b8f6-da466868ab59",
        "colab": {
          "base_uri": "https://localhost:8080/"
        }
      },
      "execution_count": 39,
      "outputs": [
        {
          "output_type": "stream",
          "name": "stdout",
          "text": [
            "22\n",
            "31\n"
          ]
        }
      ]
    },
    {
      "cell_type": "markdown",
      "source": [
        "# Slicing\n",
        "Se puede partir los arreglos 2D de la misma forma que los arreglos de 1D pero especificando los renglones a ocupar y la columna"
      ],
      "metadata": {
        "id": "SVKVlYDhWE8t"
      }
    },
    {
      "cell_type": "code",
      "source": [
        "aS = a2D[0:2,2]\n",
        "print(aS)"
      ],
      "metadata": {
        "id": "UOc9i7AcWS0h",
        "outputId": "e150c01f-679d-4766-a34c-860d45d910e6",
        "colab": {
          "base_uri": "https://localhost:8080/"
        }
      },
      "execution_count": 41,
      "outputs": [
        {
          "output_type": "stream",
          "name": "stdout",
          "text": [
            "[13 23]\n"
          ]
        }
      ]
    },
    {
      "cell_type": "markdown",
      "source": [
        "# Suma, Rest y Multiplicación \n",
        "\n",
        "Estas operaciones son practicamente igul que con los arreglos 1D"
      ],
      "metadata": {
        "id": "_CHYMDQzW2qW"
      }
    },
    {
      "cell_type": "code",
      "source": [
        "a = [[1,1,1],[2,2,2],[3,3,3]]\n",
        "b = [[10,10,10],[20,20,20],[30,30,30]]\n",
        "a = np.array(a)\n",
        "b = np.array(b)\n",
        "print(a+b)\n",
        "print(b-a)\n",
        "print(a*b)\n",
        "print(10*a)\n",
        "print(10+a)"
      ],
      "metadata": {
        "id": "4CB8aoeLW0Xq",
        "outputId": "6d06db07-988f-4e6a-c4f9-13e5908bd7a0",
        "colab": {
          "base_uri": "https://localhost:8080/"
        }
      },
      "execution_count": 43,
      "outputs": [
        {
          "output_type": "stream",
          "name": "stdout",
          "text": [
            "[[11 11 11]\n",
            " [22 22 22]\n",
            " [33 33 33]]\n",
            "[[ 9  9  9]\n",
            " [18 18 18]\n",
            " [27 27 27]]\n",
            "[[10 10 10]\n",
            " [40 40 40]\n",
            " [90 90 90]]\n",
            "[[10 10 10]\n",
            " [20 20 20]\n",
            " [30 30 30]]\n",
            "[[11 11 11]\n",
            " [12 12 12]\n",
            " [13 13 13]]\n"
          ]
        }
      ]
    },
    {
      "cell_type": "markdown",
      "source": [
        "# `dot` \n",
        "La operación punto también funciona en matrices pero estas deben estar transpuesta en tamaño de renglones y columnas entre ellas"
      ],
      "metadata": {
        "id": "10pGHRcAYbSC"
      }
    },
    {
      "cell_type": "code",
      "source": [
        "A = [[0,1,1],[1,0,1]]\n",
        "B = [[1,1],[1,1],[-1,1]]\n",
        "A = np.array(A)\n",
        "B = np.array(B)\n",
        "C = np.dot(A,B)\n",
        "print(C)"
      ],
      "metadata": {
        "id": "83H21y1fX30i",
        "outputId": "d0667056-2995-4e3d-9b56-0cec6e2ae0e7",
        "colab": {
          "base_uri": "https://localhost:8080/"
        }
      },
      "execution_count": 45,
      "outputs": [
        {
          "output_type": "stream",
          "name": "stdout",
          "text": [
            "[[0 2]\n",
            " [0 2]]\n"
          ]
        }
      ]
    },
    {
      "cell_type": "code",
      "source": [],
      "metadata": {
        "id": "hDgSHKpScYsC"
      },
      "execution_count": null,
      "outputs": []
    },
    {
      "cell_type": "markdown",
      "source": [
        "# APIs\n",
        "\n",
        "Su significado es Application Prgram Interface y son funciones que nos ayudan a realizar tareas ingresando solamente ciertos parametros sin la preocupación de implementar la funcionalidad por nosotros mismos\n",
        "\n",
        "#REST APIs\n",
        "Su significado es Representational State Transfer APIs y son usadas para interactuar con servicios web"
      ],
      "metadata": {
        "id": "WDfI5_26YoRp"
      }
    },
    {
      "cell_type": "code",
      "source": [
        "import requests\n",
        "import os \n",
        "from PIL import Image\n",
        "from IPython.display import IFrame\n",
        "\n",
        "url='https://www.ibm.com/'\n",
        "r=requests.get(url)\n",
        "\n",
        "\n",
        "print(r)\n",
        "print(r.status_code)\n",
        "print(r.request.headers)\n",
        "print(\"request body:\", r.request.body)"
      ],
      "metadata": {
        "id": "hiZglKGpem1t",
        "outputId": "db93a09e-bdb3-4ddb-cd11-ee4774093cbe",
        "colab": {
          "base_uri": "https://localhost:8080/"
        }
      },
      "execution_count": 50,
      "outputs": [
        {
          "output_type": "stream",
          "name": "stdout",
          "text": [
            "<Response [200]>\n",
            "200\n",
            "{'User-Agent': 'python-requests/2.23.0', 'Accept-Encoding': 'gzip, deflate', 'Accept': '*/*', 'Connection': 'keep-alive', 'Cookie': '_abck=860720117AE59E4AE7D44A6D8BF852A6~-1~YAAQh0A2FzwSMoiDAQAAGM17nwhM+SMnc6aJ2PUhcQFIadjFfKEqrRoR+56KtEZlkONXBbGn2v6ihV+j2VcGUaAMM/0r599uomQBhdDSs5e2Z1yNNcLdePOPj9erpLj0xYzzOPl4zLNC5yxUl+5xqJpRKVp6ScCXmYBwal3eLY1kMjxhKOHWs12Pgx/VUhHge3mQJXtjGJU/WrBlX4XZu2HOsGYvRpjQziCvP5mQm6fsJ05LiiGgELOW7ndiKEQzpfW7RsOt30xO1ZUmpnZbeBRtvOiRVWfDobjUYItxvjyB9Dl9EG+P/uXhvGFWMKIaM85/nR3BuZbMeWb2HCuWAd3Jb/Bi0QRKMGQLRdIycONZSyFG4X4=~-1~-1~-1; bm_sz=FCC051A760E2D24CD3269D4D6C5B95A6~YAAQh0A2Fz0SMoiDAQAAGM17nxH36iNxS5im/HULckw7fKkkv6mVzlCbhndzeRzyZcdZOUmtNYL4HWUyG/WZDOobi0HO267o/MIwlJHHdkSl7V6ET586eob8StxTHkWhi1Wcxs5pv8I5oOVonAKaQUW97l7Y2vwvo6neDmqAJi2Ibs4jF+afbuzVAUR44T9wdVsm/RTuNsDzbwOQDXzgbthj/yWot+RptSUKOkZoumnPnKpAex6MU/45rfo+3+FeaXaYTSRWoCAeJiU/KRqJLS3Uzx/FY7jAL0lt8wSGelY=~4601156~4535363'}\n",
            "request body: None\n"
          ]
        }
      ]
    },
    {
      "cell_type": "markdown",
      "source": [],
      "metadata": {
        "id": "6ev7mDL9YZs4"
      }
    }
  ]
}