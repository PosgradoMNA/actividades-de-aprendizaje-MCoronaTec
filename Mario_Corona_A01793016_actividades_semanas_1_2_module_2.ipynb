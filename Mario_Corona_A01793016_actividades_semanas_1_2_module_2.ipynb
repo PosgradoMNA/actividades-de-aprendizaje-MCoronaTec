{
  "nbformat": 4,
  "nbformat_minor": 0,
  "metadata": {
    "colab": {
      "name": "assignment01.ipynb",
      "provenance": [],
      "include_colab_link": true
    },
    "kernelspec": {
      "name": "python3",
      "display_name": "Python 3"
    },
    "language_info": {
      "name": "python"
    }
  },
  "cells": [
    {
      "cell_type": "markdown",
      "metadata": {
        "id": "view-in-github",
        "colab_type": "text"
      },
      "source": [
        "<a href=\"https://colab.research.google.com/github/PosgradoMNA/actividades-de-aprendizaje-MCoronaTec/blob/main/actividades_semanas_1_2_module_2.ipynb\" target=\"_parent\"><img src=\"https://colab.research.google.com/assets/colab-badge.svg\" alt=\"Open In Colab\"/></a>"
      ]
    },
    {
      "cell_type": "code",
      "execution_count": 3,
      "metadata": {
        "id": "LzUSMM79NR9P",
        "outputId": "399658d3-a457-46a3-b604-6b009abb1159",
        "colab": {
          "base_uri": "https://localhost:8080/"
        }
      },
      "outputs": [
        {
          "output_type": "execute_result",
          "data": {
            "text/plain": [
              "3"
            ]
          },
          "metadata": {},
          "execution_count": 3
        }
      ],
      "source": [
        "A=(0,1,2,3)\n",
        "A[-1]\n",
        "A[3]"
      ]
    },
    {
      "cell_type": "code",
      "source": [
        "B=[\"a\",\"b\",\"c\"]\n",
        "B[1:]"
      ],
      "metadata": {
        "id": "mxM_WppZPMFx",
        "outputId": "2c46d42e-2d04-420c-cacb-2085a00ff807",
        "colab": {
          "base_uri": "https://localhost:8080/"
        }
      },
      "execution_count": 4,
      "outputs": [
        {
          "output_type": "execute_result",
          "data": {
            "text/plain": [
              "['b', 'c']"
            ]
          },
          "metadata": {},
          "execution_count": 4
        }
      ]
    },
    {
      "cell_type": "code",
      "source": [
        "genres_tuple = (\"pop\", \"rock\", \"soul\", \"hard rock\", \"soft rock\", \\\n",
        "                \"R&B\", \"progressive rock\", \"disco\") \n",
        "genres_tuple\n",
        "len(genres_tuple)\n",
        "genres_tuple[3]  \n",
        "genres_tuple[3:6] \n",
        "genres_tuple[:2] \n",
        "genres_tuple.index('disco')"
      ],
      "metadata": {
        "id": "Bcvvz9Fo2wIb",
        "outputId": "f90ae2b5-aa97-4488-aefe-0087a7f7feac",
        "colab": {
          "base_uri": "https://localhost:8080/"
        }
      },
      "execution_count": 9,
      "outputs": [
        {
          "output_type": "execute_result",
          "data": {
            "text/plain": [
              "7"
            ]
          },
          "metadata": {},
          "execution_count": 9
        }
      ]
    },
    {
      "cell_type": "code",
      "source": [
        "C_tuple=(-5, 1, -3)\n",
        "sorted_tuple = sorted(C_tuple)\n",
        "print(sorted_tuple)"
      ],
      "metadata": {
        "id": "joM77AYM2v_T",
        "outputId": "246e6b8c-6820-4bea-be07-e1bc33d66e33",
        "colab": {
          "base_uri": "https://localhost:8080/"
        }
      },
      "execution_count": 10,
      "outputs": [
        {
          "output_type": "stream",
          "name": "stdout",
          "text": [
            "[-5, -3, 1]\n"
          ]
        }
      ]
    },
    {
      "cell_type": "code",
      "source": [
        "a_list = [1, 'hello', [1,2,3], True]\n",
        "a_list[1]\n",
        "a_list[1:4]"
      ],
      "metadata": {
        "id": "hdcDufSM2v5H",
        "outputId": "b03a5f83-9952-47c9-c048-62a656fd34d2",
        "colab": {
          "base_uri": "https://localhost:8080/"
        }
      },
      "execution_count": 12,
      "outputs": [
        {
          "output_type": "execute_result",
          "data": {
            "text/plain": [
              "['hello', [1, 2, 3], True]"
            ]
          },
          "metadata": {},
          "execution_count": 12
        }
      ]
    },
    {
      "cell_type": "code",
      "source": [
        "A = [1, 'a']\n",
        "B = [2, 1, 'd']\n",
        "C = A + B\n",
        "C"
      ],
      "metadata": {
        "id": "pocK8Ys92vz1",
        "outputId": "d540aa4d-37bc-4848-d8ac-a5b7e673a69e",
        "colab": {
          "base_uri": "https://localhost:8080/"
        }
      },
      "execution_count": 13,
      "outputs": [
        {
          "output_type": "execute_result",
          "data": {
            "text/plain": [
              "[1, 'a', 2, 1, 'd']"
            ]
          },
          "metadata": {},
          "execution_count": 13
        }
      ]
    },
    {
      "cell_type": "markdown",
      "source": [],
      "metadata": {
        "id": "NVbAyyJh2vmj"
      }
    },
    {
      "cell_type": "code",
      "source": [
        "S={'A','B','C'}\n",
        "\n",
        "U={'A','Z','C'}\n",
        "\n",
        "U.union(S)"
      ],
      "metadata": {
        "id": "E-JSPG928DY8",
        "outputId": "bbf70cb6-3681-4087-cda4-357f99beb5e7",
        "colab": {
          "base_uri": "https://localhost:8080/"
        }
      },
      "execution_count": 14,
      "outputs": [
        {
          "output_type": "execute_result",
          "data": {
            "text/plain": [
              "{'A', 'B', 'C', 'Z'}"
            ]
          },
          "metadata": {},
          "execution_count": 14
        }
      ]
    },
    {
      "cell_type": "code",
      "source": [
        "S={'A','B','C'}\n",
        "\n",
        "U={'A','Z','C'}\n",
        "S&U"
      ],
      "metadata": {
        "id": "PNtPd64J8DWS",
        "outputId": "e951f8ff-3fcb-4f90-d90a-8e9c56733334",
        "colab": {
          "base_uri": "https://localhost:8080/"
        }
      },
      "execution_count": 15,
      "outputs": [
        {
          "output_type": "execute_result",
          "data": {
            "text/plain": [
              "{'A', 'C'}"
            ]
          },
          "metadata": {},
          "execution_count": 15
        }
      ]
    },
    {
      "cell_type": "code",
      "source": [
        "myList = ['rap','house','electronic music', 'rap']\n",
        "mySet = set(myList)\n",
        "mySet"
      ],
      "metadata": {
        "id": "VYcQwmyf8DOi",
        "outputId": "1927cdf6-df86-479b-a259-814863512a4f",
        "colab": {
          "base_uri": "https://localhost:8080/"
        }
      },
      "execution_count": 16,
      "outputs": [
        {
          "output_type": "execute_result",
          "data": {
            "text/plain": [
              "{'electronic music', 'house', 'rap'}"
            ]
          },
          "metadata": {},
          "execution_count": 16
        }
      ]
    },
    {
      "cell_type": "code",
      "source": [
        "A = [1, 2, 2, 1]\n",
        "B = set([1, 2, 2, 1])\n",
        "print(sum(A) == sum(B))\n",
        "print(\"the sum of B is:\", sum(A))\n",
        "print(\"the sum of B is:\", sum(B))"
      ],
      "metadata": {
        "id": "vYc_vIfX8DDR",
        "outputId": "1a6c51d3-98c1-4587-bb0f-11703ed24089",
        "colab": {
          "base_uri": "https://localhost:8080/"
        }
      },
      "execution_count": 19,
      "outputs": [
        {
          "output_type": "stream",
          "name": "stdout",
          "text": [
            "False\n",
            "the sum of B is: 6\n",
            "the sum of B is: 3\n"
          ]
        }
      ]
    },
    {
      "cell_type": "code",
      "source": [
        "album_set1 = set([\"Thriller\", 'AC/DC', 'Back in Black'])\n",
        "album_set2 = set([ \"AC/DC\", \"Back in Black\", \"The Dark Side of the Moon\"])\n",
        "album_set3 = album_set1.union(album_set2)\n",
        "print(album_set3)\n",
        "print(album_set1.issubset(album_set3))"
      ],
      "metadata": {
        "id": "oaCPAbrw8C_O",
        "outputId": "3770fcc2-3f48-4ab4-faa5-70b5a273bc91",
        "colab": {
          "base_uri": "https://localhost:8080/"
        }
      },
      "execution_count": 21,
      "outputs": [
        {
          "output_type": "stream",
          "name": "stdout",
          "text": [
            "{'Back in Black', 'AC/DC', 'Thriller', 'The Dark Side of the Moon'}\n",
            "True\n"
          ]
        }
      ]
    },
    {
      "cell_type": "code",
      "source": [
        "D = {'a':0,'b':1,'c':2}\n",
        "print(D.values())\n",
        "print(D['b'])"
      ],
      "metadata": {
        "id": "qzr9xGsd9yKg",
        "outputId": "10950a94-7324-4d6e-f329-f7c40cf6d04e",
        "colab": {
          "base_uri": "https://localhost:8080/"
        }
      },
      "execution_count": 24,
      "outputs": [
        {
          "output_type": "stream",
          "name": "stdout",
          "text": [
            "dict_values([0, 1, 2])\n",
            "1\n"
          ]
        }
      ]
    },
    {
      "cell_type": "code",
      "source": [
        "soundtrack_dic = {\"The Bodyguard\":\"1992\", \"Saturday Night Fever\":\"1977\"}\n",
        "print(soundtrack_dic.keys())\n",
        "print(soundtrack_dic.values())"
      ],
      "metadata": {
        "id": "-x_7E_uu9yHv",
        "outputId": "8aaf04d8-45bc-4627-b29e-7a14a059a6fb",
        "colab": {
          "base_uri": "https://localhost:8080/"
        }
      },
      "execution_count": 25,
      "outputs": [
        {
          "output_type": "stream",
          "name": "stdout",
          "text": [
            "dict_keys(['The Bodyguard', 'Saturday Night Fever'])\n",
            "dict_values(['1992', '1977'])\n"
          ]
        }
      ]
    },
    {
      "cell_type": "code",
      "source": [
        "album_sales_dict = { 'Back in Black':50, 'The Bodyguard':50, 'Thriller':65}\n",
        "album_sales_dict\n",
        "print(album_sales_dict['Thriller'])\n",
        "print(album_sales_dict.keys())\n",
        "print(album_sales_dict.values())"
      ],
      "metadata": {
        "id": "wsUNnMkC9yEu",
        "outputId": "5988ec32-53f3-4449-9f34-b03d1ffa5278",
        "colab": {
          "base_uri": "https://localhost:8080/"
        }
      },
      "execution_count": 28,
      "outputs": [
        {
          "output_type": "stream",
          "name": "stdout",
          "text": [
            "65\n",
            "dict_keys(['Back in Black', 'The Bodyguard', 'Thriller'])\n",
            "dict_values([50, 50, 65])\n"
          ]
        }
      ]
    }
  ]
}
