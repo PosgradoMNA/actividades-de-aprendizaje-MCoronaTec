{
  "nbformat": 4,
  "nbformat_minor": 0,
  "metadata": {
    "colab": {
      "provenance": [],
      "authorship_tag": "ABX9TyNFt8aA1Do0YhLduyUB4H6s",
      "include_colab_link": true
    },
    "kernelspec": {
      "name": "python3",
      "display_name": "Python 3"
    },
    "language_info": {
      "name": "python"
    }
  },
  "cells": [
    {
      "cell_type": "markdown",
      "metadata": {
        "id": "view-in-github",
        "colab_type": "text"
      },
      "source": [
        "<a href=\"https://colab.research.google.com/github/PosgradoMNA/actividades-de-aprendizaje-MCoronaTec/blob/main/A01793016_MarioCorona_DataAnalysis_Module3.ipynb\" target=\"_parent\"><img src=\"https://colab.research.google.com/assets/colab-badge.svg\" alt=\"Open In Colab\"/></a>"
      ]
    },
    {
      "cell_type": "markdown",
      "source": [
        "# Data Analysis with Python\n",
        "# Modulo 3\n",
        "\n",
        "**Nombre:** Mario Alberto Corona Cadenas\n",
        "\n",
        "**Matrícula:** A01793016"
      ],
      "metadata": {
        "id": "JVXXhT1PlJTN"
      }
    },
    {
      "cell_type": "code",
      "execution_count": null,
      "metadata": {
        "id": "aCOENHLAlEG6"
      },
      "outputs": [],
      "source": []
    }
  ]
}