{
  "nbformat": 4,
  "nbformat_minor": 0,
  "metadata": {
    "colab": {
      "provenance": [],
      "authorship_tag": "ABX9TyPU1LRmzeFBigKzwlU1e8aa",
      "include_colab_link": true
    },
    "kernelspec": {
      "name": "python3",
      "display_name": "Python 3"
    },
    "language_info": {
      "name": "python"
    }
  },
  "cells": [
    {
      "cell_type": "markdown",
      "metadata": {
        "id": "view-in-github",
        "colab_type": "text"
      },
      "source": [
        "<a href=\"https://colab.research.google.com/github/PosgradoMNA/actividades-de-aprendizaje-MCoronaTec/blob/main/A01793016_MarioCorona_DataAnalysis_Module3.ipynb\" target=\"_parent\"><img src=\"https://colab.research.google.com/assets/colab-badge.svg\" alt=\"Open In Colab\"/></a>"
      ]
    },
    {
      "cell_type": "markdown",
      "source": [
        "# Data Analysis with Python\n",
        "# Modulo 3\n",
        "\n",
        "**Nombre:** Mario Alberto Corona Cadenas\n",
        "\n",
        "**Matrícula:** A01793016"
      ],
      "metadata": {
        "id": "JVXXhT1PlJTN"
      }
    },
    {
      "cell_type": "markdown",
      "source": [
        "# Eplory Data Analysis\n",
        "\n",
        "Este modulo cubre los siguiente tópicos:\n",
        "\n",
        "- Resumir las principales características de los datos\n",
        "- Tener un mejor entendimiento del data set\n",
        "- Descubir las relaciones que existen entre las variables\n",
        "- Extraer variables importante\n",
        "- Estadísticas Descriptivas\n",
        "- `GroupBy`\n",
        "- ANOVA\n",
        "- Correlación"
      ],
      "metadata": {
        "id": "F85tesNYlx0x"
      }
    },
    {
      "cell_type": "markdown",
      "source": [
        "# Estadísticas Descriptivas\n",
        "\n",
        "Las estadísticas descriptivas ayudan a dar un entendimiento de los datos que componen un data se. Aquí se describen algunas funcionalides básicas de que permiten explorar los datas sets de na manera sencilla y rápida.\n",
        "\n",
        "# `describe()`\n",
        "\n",
        "Este es un método de pandas que provee de las princiapales métricas de un data set. Las siguiente son las metricas que despiega:\n",
        "\n",
        "- `cout`\n",
        "- `mean`\n",
        "- `std`\n",
        "- `25%`\n",
        "- `75%`\n",
        "- `max`\n",
        "\n",
        "# `value_counts()` \n",
        "\n",
        "Esta función ayuda proveyendo un resumen en la variables categóricas. Da un conteo de cada categoria\n",
        "\n",
        "*e.i*\n",
        " ```\n",
        "drive_wheels_cnt = df['drive-wheels'].value_counts()\n",
        "drive_wheels_cnt.rename(columns={'drive-wheels':'value_counts'}, inplace=True)\n",
        "drive_wheels_cnt.idenx.name = 'drive-wheels'\n",
        " \n",
        " ```"
      ],
      "metadata": {
        "id": "TD3qK1SBnrHH"
      }
    }
  ]
}